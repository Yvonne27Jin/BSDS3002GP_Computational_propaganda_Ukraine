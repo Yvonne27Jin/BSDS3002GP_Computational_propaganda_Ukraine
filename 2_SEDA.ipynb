{
 "cells": [
  {
   "cell_type": "code",
   "execution_count": null,
   "metadata": {},
   "outputs": [],
   "source": [
    "### Simple Exploratory data analysis (EDA)\n",
    "# data file: preprocessed_data.pkl\n",
    "# total tweets distribution\n",
    "# follower distribution\n",
    "# following distribution\n",
    "# user created time distribution\n",
    "# location distribution\n",
    "# language distribution\n",
    "# retweets count distribution\n",
    "# political stance distribution\n",
    "# hashtags distribution"
   ]
  },
  {
   "cell_type": "code",
   "execution_count": null,
   "metadata": {},
   "outputs": [],
   "source": [
    "# export non-labeled tweets to take a look\n",
    "\n",
    "no_na = df1[df1['tags_splitted']!=\"NA\"]\n",
    "# 10594 tweets with no tags\n",
    "\n",
    "# check rows rabeled by neither of two groups\n",
    "non_R = no_na[no_na['pro_Russian']==False]\n",
    "non = non_R[non_R['pro_Ukraine']==False]\n",
    "\n",
    "\n",
    "# export dataframe \n",
    "#non.to_csv(\"sampled_dataset_not_labeled.csv\",sep = \",\", header = True, encoding = \"UTF-8\")\n",
    "non\n",
    "\n",
    "df_U = non[non['text'].str.contains('Rassian fascists')]\n",
    "# tried keywords but no results in the sample "
   ]
  },
  {
   "cell_type": "code",
   "execution_count": null,
   "metadata": {},
   "outputs": [],
   "source": [
    "no_tag = df1[df1['tags_splitted']==\"NA\"]\n",
    "# 10594 tweets with no hashtags\n",
    "\n",
    "# 255 labeled as pro-Russia\n",
    "proRussia = df1[df1['pro_Russian']==True]\n",
    "proRussiaNoUkraine = df1[(df1['pro_Russian']==True) & (df1['pro_Ukraine']==False)]\n",
    "\n",
    "# 6412 labeled as pro-Ukraine\n",
    "proUkraine = df1[df1['pro_Ukraine']==True]\n",
    "proUkraineNoRussia = df1[(df1['pro_Russian']==False) & (df1['pro_Ukraine']==True)]\n",
    "\n",
    "# still a lot rabeled by neither of two groups\n",
    "non_R = df1[df1['pro_Russian']==False]\n",
    "# non = non_R[non_R['pro_Ukraine']==False]\n",
    "\n",
    "non = df1[(df1['pro_Russian']==False) & (df1['pro_Ukraine']==False)]\n",
    "both = df1[(df1['pro_Russian']==True) & (df1['pro_Ukraine']==True)]\n",
    "\n",
    "display(proRussia.shape)\n",
    "display(proUkraine.shape)\n",
    "display(non.shape)\n",
    "display(both.shape)\n",
    "display(proRussiaNoUkraine.shape)\n",
    "display(proUkraineNoRussia.shape)\n"
   ]
  },
  {
   "cell_type": "code",
   "execution_count": null,
   "metadata": {},
   "outputs": [],
   "source": [
    "node_columns = [\"userid\",\"username\",\"usercreatedts\",\"following\",\"followers\",\"totaltweets\",\"pro_Russian\",\"pro_Ukraine\"]\n",
    "nodesBefore = df1[node_columns][(df1['tweetcreatedts'] < '2022-03-04 24:59:59+00:00')]\n",
    "nodesAfter = df1[node_columns][(df1['tweetcreatedts'] > '2022-03-04 24:59:59+00:00')]\n",
    "\n",
    "difAll = round(len(nodesAfter) * 100 / len(nodesBefore), 2)\n",
    "print(\"Tweets before Russia's block:\", len(nodesBefore), \"and after:\", len(nodesAfter), \"\\nDifference:\", difAll, len(nodesBefore)-len(nodesAfter))\n",
    "\n",
    "proRussianBefore = proRussia[node_columns][(proRussia['tweetcreatedts'] < '2022-03-04 24:59:59+00:00')]\n",
    "proRussianAfter = proRussia[node_columns][(proRussia['tweetcreatedts'] > '2022-03-04 24:59:59+00:00')]\n",
    "difRus = round(len(proRussianAfter) * 100 / len(proRussianBefore),2)\n",
    "print(\"Pro-Russian tweets before Russia's block:\", len(proRussianBefore), \"and after:\", len(proRussianAfter), \"\\nDifference:\", difRus, len(proRussianBefore)-len(proRussianAfter))\n",
    "\n",
    "ratioBefore = round(len(proRussianBefore)/len(nodesBefore), 4)\n",
    "ratioAfter = round(len(proRussianAfter)/len(nodesAfter), 4)\n",
    "\n",
    "print(\"Ratio pro-Russian:Total tweets before block:\", ratioBefore, \"and after:\", ratioAfter)\n",
    "\n",
    "\n",
    "proUkraineBefore = proUkraine[node_columns][(proUkraine['tweetcreatedts'] < '2022-03-04 24:59:59+00:00')]\n",
    "proUkraineAfter = proUkraine[node_columns][(proUkraine['tweetcreatedts'] > '2022-03-04 24:59:59+00:00')]\n",
    "difUkr = round(len(proUkraineAfter) * 100 / len(proUkraineBefore),2)\n",
    "print(\"Pro-Ukrainian tweets before Russia's block:\", len(proUkraineBefore), \"and after:\", len(proUkraineAfter), \"\\nDifference:\", difUkr, len(proUkraineBefore)-len(proUkraineAfter))\n",
    "\n",
    "\n",
    "bothBefore = both[node_columns][(both['tweetcreatedts'] < '2022-03-04 24:59:59+00:00')]\n",
    "bothAfter = both[node_columns][(both['tweetcreatedts'] > '2022-03-04 24:59:59+00:00')]\n",
    "difBoth = round(len(bothAfter) * 100 / len(bothBefore),2)\n",
    "print(\"Both tweets before Russia's block:\", len(bothBefore), \"and after:\", len(bothAfter), \"\\nDifference:\", difBoth, len(bothBefore)-len(bothAfter))\n",
    "\n",
    "\n",
    "nonBefore = non[node_columns][(non['tweetcreatedts'] < '2022-03-04 24:59:59+00:00')]\n",
    "nonAfter = non[node_columns][(non['tweetcreatedts'] > '2022-03-04 24:59:59+00:00')]\n",
    "difNon = round(len(nonAfter) * 100 / len(nonBefore),2)\n",
    "print(\"Neutral tweets before Russia's block:\", len(nonBefore), \"and after:\", len(nonAfter), \"\\nDifference:\", difNon, len(nonBefore)-len(nonAfter))"
   ]
  }
 ],
 "metadata": {
  "language_info": {
   "name": "python"
  },
  "orig_nbformat": 4
 },
 "nbformat": 4,
 "nbformat_minor": 2
}
