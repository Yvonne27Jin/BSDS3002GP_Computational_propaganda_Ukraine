{
 "cells": [
  {
   "cell_type": "code",
   "execution_count": null,
   "metadata": {},
   "outputs": [],
   "source": [
    "### Trend and information flow of Russia propaganda\n",
    "# https://www.kaggle.com/code/alifiyabatterywala/ukraine-vs-russian-topic-modeling/notebook\n"
   ]
  },
  {
   "cell_type": "code",
   "execution_count": 5,
   "metadata": {},
   "outputs": [],
   "source": [
    "import pandas as pd \n",
    "import numpy as np\n",
    "import os\n",
    "import csv\n",
    "import warnings\n",
    "warnings.simplefilter(action='ignore')\n",
    "import gc\n",
    "from pathlib import Path\n",
    "import math\n",
    "import glob"
   ]
  },
  {
   "cell_type": "code",
   "execution_count": 6,
   "metadata": {},
   "outputs": [
    {
     "name": "stdout",
     "output_type": "stream",
     "text": [
      "['kaggle/UkraineCombinedTweetsDeduped_MAR05.csv.gzip', 'kaggle/UkraineCombinedTweetsDeduped_MAR04.csv.gzip', 'kaggle/0401_UkraineCombinedTweetsDeduped.csv.gzip', 'kaggle/0402_UkraineCombinedTweetsDeduped.csv.gzip', 'kaggle/0403_UkraineCombinedTweetsDeduped.csv.gzip', 'kaggle/UkraineCombinedTweetsDeduped_FEB27.csv.gzip', 'kaggle/0405_UkraineCombinedTweetsDeduped.csv.gzip', 'kaggle/0404_UkraineCombinedTweetsDeduped.csv.gzip', 'kaggle/0407_UkraineCombinedTweetsDeduped.csv.gzip', 'kaggle/UkraineCombinedTweetsDeduped_MAR31.csv.gzip', 'kaggle/0406_UkraineCombinedTweetsDeduped.csv.gzip', 'kaggle/UkraineCombinedTweetsDeduped_MAR12.csv.gzip', 'kaggle/UkraineCombinedTweetsDeduped_MAR13.csv.gzip', 'kaggle/UkraineCombinedTweetsDeduped_MAR18.csv.gzip', 'kaggle/UkraineCombinedTweetsDeduped_MAR19.csv.gzip', 'kaggle/UkraineCombinedTweetsDeduped_MAR26.csv.gzip', 'kaggle/UkraineCombinedTweetsDeduped_MAR15.csv.gzip', 'kaggle/UkraineCombinedTweetsDeduped_MAR14.csv.gzip', 'kaggle/UkraineCombinedTweetsDeduped_FEB28_part1.csv.gzip', 'kaggle/UkraineCombinedTweetsDeduped_MAR30_REAL.csv.gzip', 'kaggle/UkraineCombinedTweetsDeduped_MAR21.csv.gzip', 'kaggle/UkraineCombinedTweetsDeduped_MAR20.csv.gzip', 'kaggle/UkraineCombinedTweetsDeduped_MAR02.csv.gzip', 'kaggle/UkraineCombinedTweetsDeduped_MAR03.csv.gzip', 'kaggle/0418_UkraineCombinedTweetsDeduped.csv.gzip', 'kaggle/0419_UkraineCombinedTweetsDeduped.csv.gzip', 'kaggle/UkraineCombinedTweetsDeduped_MAR27_to_28.csv.gzip', 'kaggle/UkraineCombinedTweetsDeduped_MAR08.csv.gzip', 'kaggle/UkraineCombinedTweetsDeduped_MAR09.csv.gzip', 'kaggle/UkraineCombinedTweetsDeduped_MAR25.csv.gzip', 'kaggle/UkraineCombinedTweetsDeduped_MAR24.csv.gzip', 'kaggle/UkraineCombinedTweetsDeduped_MAR11.csv.gzip', 'kaggle/UkraineCombinedTweetsDeduped_MAR10.csv.gzip', 'kaggle/0409_UkraineCombinedTweetsDeduped.csv.gzip', 'kaggle/0408_UkraineCombinedTweetsDeduped.csv.gzip', 'kaggle/UkraineCombinedTweetsDeduped20220227-131611.csv.gzip', 'kaggle/UkraineCombinedTweetsDeduped_MAR06.csv.gzip', 'kaggle/UkraineCombinedTweetsDeduped_MAR07.csv.gzip', 'kaggle/UkraineCombinedTweetsDeduped_MAR01.csv.gzip', 'kaggle/0414_UkraineCombinedTweetsDeduped.csv.gzip', 'kaggle/0415_UkraineCombinedTweetsDeduped.csv.gzip', 'kaggle/0422_UkraineCombinedTweetsDeduped.csv.gzip', 'kaggle/0421_UkraineCombinedTweetsDeduped.csv.gzip', 'kaggle/UkraineCombinedTweetsDeduped_MAR22.csv.gzip', 'kaggle/UkraineCombinedTweetsDeduped_MAR23.csv.gzip', 'kaggle/0416_UkraineCombinedTweetsDeduped.csv.gzip', 'kaggle/0420_UkraineCombinedTweetsDeduped.csv.gzip', 'kaggle/0417_UkraineCombinedTweetsDeduped.csv.gzip', 'kaggle/0411_UkraineCombinedTweetsDeduped.csv.gzip', 'kaggle/0410_UkraineCombinedTweetsDeduped.csv.gzip', 'kaggle/UkraineCombinedTweetsDeduped_MAR16.csv.gzip', 'kaggle/UkraineCombinedTweetsDeduped_MAR17.csv.gzip', 'kaggle/0413_UkraineCombinedTweetsDeduped.csv.gzip', 'kaggle/0412_UkraineCombinedTweetsDeduped.csv.gzip', 'kaggle/UkraineCombinedTweetsDeduped_MAR29.csv.gzip', 'kaggle/UkraineCombinedTweetsDeduped_FEB28_part2.csv.gzip']\n"
     ]
    }
   ],
   "source": [
    "# create a filelist for reading .gzip datasets \n",
    "\n",
    "# method 1\n",
    "data_location = os.path.join('kaggle', '*.gzip')\n",
    "\n",
    "filenames = glob.glob(data_location)\n",
    "print(filenames)"
   ]
  },
  {
   "cell_type": "code",
   "execution_count": 7,
   "metadata": {},
   "outputs": [
    {
     "data": {
      "text/plain": [
       "599"
      ]
     },
     "execution_count": 7,
     "metadata": {},
     "output_type": "execute_result"
    }
   ],
   "source": [
    "# search for tweets with keywords \n",
    "\n",
    "columns = [\"userid\",\"username\",\"location\",\"language\",\"tweetid\",\"tweetcreatedts\",\"retweetcount\", \"hashtags\", \"text\", \"usercreatedts\", \"following\", \"followers\",\"totaltweets\"]\n",
    "\n",
    "filenames.sort()\n",
    "dataframe_collection = []\n",
    "# create empty dataframes for subtopics\n",
    "dfnames = ['df_smo', 'df_R_smo','df_unazi','df_nazi']\n",
    "for x in dfnames: exec(x + ' = pd.DataFrame()')\n",
    "\n",
    "for csvfile in filenames:\n",
    "    df = pd.read_csv(csvfile, compression='gzip', index_col=0,encoding='utf-8', quoting=csv.QUOTE_ALL)\n",
    "    df = df[columns]\n",
    "    # key word selection\n",
    "    df_smo = pd.concat([df_smo, df[df['text'].str.contains('special military operation')]])\n",
    "    df_R_smo = pd.concat([df_R_smo, df[df['text'].str.contains('специальная военная операция')]])\n",
    "    df_unazi = pd.concat([df_unazi, df[df['text'].str.contains('cleanse of Nazis' or 'Ukrainian Nazis')]])\n",
    "    df_nazi = pd.concat([df_nazi, df[df['text'].str.contains('Neo-Nazis' or 'fascists')] ])\n",
    "    \n",
    "gc.collect()\n",
    "\n"
   ]
  },
  {
   "cell_type": "code",
   "execution_count": 8,
   "metadata": {},
   "outputs": [
    {
     "name": "stdout",
     "output_type": "stream",
     "text": [
      "11918 4 0 5419\n"
     ]
    }
   ],
   "source": [
    "# combine datasets from different days\n",
    "print(len(df_smo),len(df_R_smo), len(df_unazi), len(df_nazi))"
   ]
  },
  {
   "cell_type": "code",
   "execution_count": 9,
   "metadata": {},
   "outputs": [],
   "source": [
    "# a function to split and clean \"hashtags\" column\n",
    "\n",
    "def SplitTags(hashtags):\n",
    "    TAGS=[]\n",
    "    if hashtags != '[]':\n",
    "        tags_split = hashtags[1:-1].split('{')\n",
    "        for t in tags_split:\n",
    "            if t!='':\n",
    "                TAGS+=[t.split(': ')[1].split(',')[0][1:-1]]\n",
    "        return TAGS\n",
    "    else: return \"NA\"\n",
    "\n",
    "def LowerTags(hashtags):\n",
    "    TAGS=[]\n",
    "    if hashtags != '[]':\n",
    "        tags_split = hashtags[1:-1].split('{')\n",
    "        for t in tags_split:\n",
    "            if t!='':\n",
    "                TAGS+=[t.split(': ')[1].split(',')[0][1:-1]]\n",
    "    lower_TAGS = (map(lambda x: x.lower(), TAGS))\n",
    "    TAGS = list(lower_TAGS)\n",
    "    if len(TAGS)>0:\n",
    "        return TAGS\n",
    "    else: return \"NA\"\n",
    "\n",
    "            \n",
    "df_smo['tags_splitted'] = df_smo['hashtags'].apply(SplitTags)\n",
    "df_smo['tags_lower'] = df_smo['hashtags'].apply(LowerTags)"
   ]
  },
  {
   "cell_type": "code",
   "execution_count": 10,
   "metadata": {},
   "outputs": [],
   "source": [
    "# import the manually labelled new hashtag list\n",
    "with open(\"labelled.txt\", 'r', encoding='UTF-8') as infile:\n",
    "    lines = infile.readlines()\n",
    "\n",
    "    labelled_tags = pd.DataFrame(columns=lines[0].split())\n",
    "    \n",
    "    for line in lines[1:]:\n",
    "        df_length = len(labelled_tags)\n",
    "        labelled_tags.loc[df_length] = line.split()[1:]\n",
    "        \n",
    "labelled_tags[\"pro_u\"] = labelled_tags[\"pro_u\"].apply(lambda x: eval(x))\n",
    "labelled_tags[\"pro_r\"] = labelled_tags[\"pro_r\"].apply(lambda x: eval(x))\n",
    "labelled_tags[\"neutral\"] = labelled_tags[\"neutral\"].apply(lambda x: eval(x))\n",
    "labelled_tags.head()\n",
    "\n",
    "pro_russian_tags = labelled_tags[\"tag\"][labelled_tags[\"pro_r\"]==True]\n",
    "pro_ukrainian_tags = labelled_tags[\"tag\"][labelled_tags[\"pro_u\"]==True]\n",
    "neural_tags = labelled_tags[\"tag\"][labelled_tags[\"neutral\"]==True]\n"
   ]
  },
  {
   "cell_type": "code",
   "execution_count": 11,
   "metadata": {},
   "outputs": [],
   "source": [
    "# change all tags to lowercase before matching to avoid spelling difference\n",
    "lower_R = (map(lambda x: x.lower(), pro_russian_tags))\n",
    "pro_russian_tags = list(lower_R)\n",
    "\n",
    "lower_U = (map(lambda x: x.lower(), pro_ukrainian_tags))\n",
    "pro_ukrainian_tags = list(lower_U)\n",
    "\n",
    "lower_N = (map(lambda x: x.lower(), neural_tags))\n",
    "neural_tags = list(lower_N)"
   ]
  },
  {
   "cell_type": "code",
   "execution_count": 12,
   "metadata": {},
   "outputs": [],
   "source": [
    "# Create lambda functions to mark political orientation if related hashtags were found \n",
    "\n",
    "# lambda functions marking political orientation if related hashtags were found \n",
    "pro_R_check = lambda taglist: bool(set(taglist) & set(pro_russian_tags)) # return true if overlap of two sets not empty\n",
    "pro_U_check = lambda taglist: bool(set(taglist) & set(pro_ukrainian_tags)) \n",
    "N_check = lambda taglist: bool(set(taglist) & set(neural_tags)) \n",
    "\n",
    "\n",
    "df_smo['pro_Russian'] = df_smo['tags_lower'].apply(pro_R_check)\n",
    "df_smo['pro_Ukraine'] = df_smo['tags_lower'].apply(pro_U_check)\n",
    "df_smo['Neutral'] = df_smo['tags_lower'].apply(N_check)"
   ]
  },
  {
   "cell_type": "code",
   "execution_count": 13,
   "metadata": {},
   "outputs": [
    {
     "data": {
      "text/html": [
       "<div>\n",
       "<style scoped>\n",
       "    .dataframe tbody tr th:only-of-type {\n",
       "        vertical-align: middle;\n",
       "    }\n",
       "\n",
       "    .dataframe tbody tr th {\n",
       "        vertical-align: top;\n",
       "    }\n",
       "\n",
       "    .dataframe thead th {\n",
       "        text-align: right;\n",
       "    }\n",
       "</style>\n",
       "<table border=\"1\" class=\"dataframe\">\n",
       "  <thead>\n",
       "    <tr style=\"text-align: right;\">\n",
       "      <th></th>\n",
       "      <th>userid</th>\n",
       "      <th>username</th>\n",
       "      <th>location</th>\n",
       "      <th>language</th>\n",
       "      <th>tweetid</th>\n",
       "      <th>tweetcreatedts</th>\n",
       "      <th>retweetcount</th>\n",
       "      <th>hashtags</th>\n",
       "      <th>text</th>\n",
       "      <th>usercreatedts</th>\n",
       "      <th>following</th>\n",
       "      <th>followers</th>\n",
       "      <th>totaltweets</th>\n",
       "      <th>tags_splitted</th>\n",
       "      <th>tags_lower</th>\n",
       "      <th>pro_Russian</th>\n",
       "      <th>pro_Ukraine</th>\n",
       "      <th>Neutral</th>\n",
       "      <th>NodeType</th>\n",
       "    </tr>\n",
       "  </thead>\n",
       "  <tbody>\n",
       "    <tr>\n",
       "      <th>373</th>\n",
       "      <td>1123400778</td>\n",
       "      <td>WizardBear1</td>\n",
       "      <td>Hawaii, USA</td>\n",
       "      <td>en</td>\n",
       "      <td>1509682342587109379</td>\n",
       "      <td>2022-04-01 00:01:33.000000</td>\n",
       "      <td>151</td>\n",
       "      <td>[]</td>\n",
       "      <td>The sounds of war in Ukraine. \\n\\nPutin calls ...</td>\n",
       "      <td>2013-01-26 23:10:16.000000</td>\n",
       "      <td>1289</td>\n",
       "      <td>1019</td>\n",
       "      <td>78199</td>\n",
       "      <td>NA</td>\n",
       "      <td>NA</td>\n",
       "      <td>False</td>\n",
       "      <td>False</td>\n",
       "      <td>False</td>\n",
       "      <td>Unknown</td>\n",
       "    </tr>\n",
       "    <tr>\n",
       "      <th>907</th>\n",
       "      <td>1725818820</td>\n",
       "      <td>MaureenStaehle</td>\n",
       "      <td>Nova Scotia, Canada</td>\n",
       "      <td>en</td>\n",
       "      <td>1509683012065275910</td>\n",
       "      <td>2022-04-01 00:04:13.000000</td>\n",
       "      <td>151</td>\n",
       "      <td>[]</td>\n",
       "      <td>The sounds of war in Ukraine. \\n\\nPutin calls ...</td>\n",
       "      <td>2013-09-03 15:32:02.000000</td>\n",
       "      <td>5005</td>\n",
       "      <td>1313</td>\n",
       "      <td>39329</td>\n",
       "      <td>NA</td>\n",
       "      <td>NA</td>\n",
       "      <td>False</td>\n",
       "      <td>False</td>\n",
       "      <td>False</td>\n",
       "      <td>Unknown</td>\n",
       "    </tr>\n",
       "  </tbody>\n",
       "</table>\n",
       "</div>"
      ],
      "text/plain": [
       "         userid        username             location language  \\\n",
       "373  1123400778     WizardBear1          Hawaii, USA       en   \n",
       "907  1725818820  MaureenStaehle  Nova Scotia, Canada       en   \n",
       "\n",
       "                 tweetid              tweetcreatedts  retweetcount hashtags  \\\n",
       "373  1509682342587109379  2022-04-01 00:01:33.000000           151       []   \n",
       "907  1509683012065275910  2022-04-01 00:04:13.000000           151       []   \n",
       "\n",
       "                                                  text  \\\n",
       "373  The sounds of war in Ukraine. \\n\\nPutin calls ...   \n",
       "907  The sounds of war in Ukraine. \\n\\nPutin calls ...   \n",
       "\n",
       "                  usercreatedts  following  followers  totaltweets  \\\n",
       "373  2013-01-26 23:10:16.000000       1289       1019        78199   \n",
       "907  2013-09-03 15:32:02.000000       5005       1313        39329   \n",
       "\n",
       "    tags_splitted tags_lower  pro_Russian  pro_Ukraine  Neutral NodeType  \n",
       "373            NA         NA        False        False    False  Unknown  \n",
       "907            NA         NA        False        False    False  Unknown  "
      ]
     },
     "execution_count": 13,
     "metadata": {},
     "output_type": "execute_result"
    }
   ],
   "source": [
    "# Determine a tweet's stance by it's hashtags: pro-russian / pro-ukrainian / both/ Neutral/ unknown\n",
    "df_smo['NodeType'] = np.where(\n",
    "     df_smo['pro_Russian'] & df_smo['pro_Ukraine'], 'Both',\n",
    "     np.where(\n",
    "         df_smo['pro_Russian'],  'pro_Russian',\n",
    "     np.where(\n",
    "        df_smo['pro_Ukraine'], 'pro_Ukraine', \n",
    "     np.where(\n",
    "         df_smo['Neutral'],'Neutral','Unknown'\n",
    "     ))))\n",
    "\n",
    "df_smo.head(2)"
   ]
  },
  {
   "cell_type": "code",
   "execution_count": 14,
   "metadata": {},
   "outputs": [
    {
     "ename": "ModuleNotFoundError",
     "evalue": "No module named 'seaborn'",
     "output_type": "error",
     "traceback": [
      "\u001b[0;31m---------------------------------------------------------------------------\u001b[0m",
      "\u001b[0;31mModuleNotFoundError\u001b[0m                       Traceback (most recent call last)",
      "Input \u001b[0;32mIn [14]\u001b[0m, in \u001b[0;36m<module>\u001b[0;34m\u001b[0m\n\u001b[1;32m      1\u001b[0m \u001b[38;5;66;03m#plot time distribution of tweets\u001b[39;00m\n\u001b[1;32m      2\u001b[0m \u001b[38;5;28;01mimport\u001b[39;00m \u001b[38;5;21;01mmatplotlib\u001b[39;00m\u001b[38;5;21;01m.\u001b[39;00m\u001b[38;5;21;01mpyplot\u001b[39;00m \u001b[38;5;28;01mas\u001b[39;00m \u001b[38;5;21;01mplt\u001b[39;00m\n\u001b[0;32m----> 3\u001b[0m \u001b[38;5;28;01mimport\u001b[39;00m \u001b[38;5;21;01mseaborn\u001b[39;00m \u001b[38;5;28;01mas\u001b[39;00m \u001b[38;5;21;01msns\u001b[39;00m\n\u001b[1;32m      5\u001b[0m \u001b[38;5;66;03m# Distribution of tweet created time by political stance\u001b[39;00m\n\u001b[1;32m      6\u001b[0m fig, ax \u001b[38;5;241m=\u001b[39m plt\u001b[38;5;241m.\u001b[39msubplots(figsize\u001b[38;5;241m=\u001b[39m(\u001b[38;5;241m16\u001b[39m,\u001b[38;5;241m8\u001b[39m))\n",
      "\u001b[0;31mModuleNotFoundError\u001b[0m: No module named 'seaborn'"
     ]
    }
   ],
   "source": [
    "#plot time distribution of tweets\n",
    "import matplotlib.pyplot as plt\n",
    "import seaborn as sns\n",
    "\n",
    "# Distribution of tweet created time by political stance\n",
    "fig, ax = plt.subplots(figsize=(16,8))\n",
    "for stance in df_smo['NodeType'].value_counts().sort_values().index.tolist():\n",
    "    sns.kdeplot(df_smo[df_smo['NodeType']==stance]['tweetcreatedts'],ax=ax, label=stance)\n",
    "ax.legend()\n",
    "ax.set_title(\"Distribution of tweet created time by political stance\")\n",
    "plt.show()"
   ]
  },
  {
   "cell_type": "code",
   "execution_count": null,
   "metadata": {},
   "outputs": [],
   "source": []
  },
  {
   "cell_type": "code",
   "execution_count": 15,
   "metadata": {},
   "outputs": [],
   "source": [
    "# export dataframe \n",
    "df_smo.to_csv(\"20220508keywords_smo.csv\",sep = \",\", header = True, encoding = \"UTF-8\",index=False)"
   ]
  },
  {
   "cell_type": "code",
   "execution_count": null,
   "metadata": {},
   "outputs": [],
   "source": []
  }
 ],
 "metadata": {
  "interpreter": {
   "hash": "aee8b7b246df8f9039afb4144a1f6fd8d2ca17a180786b69acc140d282b71a49"
  },
  "kernelspec": {
   "display_name": "Python 3 (ipykernel)",
   "language": "python",
   "name": "python3"
  },
  "language_info": {
   "codemirror_mode": {
    "name": "ipython",
    "version": 3
   },
   "file_extension": ".py",
   "mimetype": "text/x-python",
   "name": "python",
   "nbconvert_exporter": "python",
   "pygments_lexer": "ipython3",
   "version": "3.9.12"
  }
 },
 "nbformat": 4,
 "nbformat_minor": 4
}
