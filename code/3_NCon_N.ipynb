{
 "cells": [
  {
   "cell_type": "code",
   "execution_count": 1,
   "metadata": {},
   "outputs": [],
   "source": [
    "### Network construction\n",
    "# data file: preprocessed_data.pkl\n",
    "# bipartite network user - tweet\n",
    "# one-mode user network \n",
    "# one-mode tweet network\n",
    "\n",
    "# other combinations:\n",
    "# one-mode pro-russian / pro-ukrainian user network   \n",
    "# one-mode user network before / after Twitter ban in Russia   \n",
    "\n",
    "# export nodelist and edgelist for network visualisation"
   ]
  },
  {
   "cell_type": "code",
   "execution_count": 46,
   "metadata": {},
   "outputs": [],
   "source": [
    "import pandas as pd\n",
    "import networkx as nx\n",
    "import numpy as np\n",
    "import csv\n",
    "from networkx.algorithms import bipartite"
   ]
  },
  {
   "cell_type": "code",
   "execution_count": 3,
   "metadata": {},
   "outputs": [
    {
     "data": {
      "text/html": [
       "<div>\n",
       "<style scoped>\n",
       "    .dataframe tbody tr th:only-of-type {\n",
       "        vertical-align: middle;\n",
       "    }\n",
       "\n",
       "    .dataframe tbody tr th {\n",
       "        vertical-align: top;\n",
       "    }\n",
       "\n",
       "    .dataframe thead th {\n",
       "        text-align: right;\n",
       "    }\n",
       "</style>\n",
       "<table border=\"1\" class=\"dataframe\">\n",
       "  <thead>\n",
       "    <tr style=\"text-align: right;\">\n",
       "      <th></th>\n",
       "      <th>userid</th>\n",
       "      <th>username</th>\n",
       "      <th>textid</th>\n",
       "      <th>location</th>\n",
       "      <th>language</th>\n",
       "      <th>tweetid</th>\n",
       "      <th>tweetcreatedts</th>\n",
       "      <th>retweetcount</th>\n",
       "      <th>hashtags</th>\n",
       "      <th>text</th>\n",
       "      <th>usercreatedts</th>\n",
       "      <th>following</th>\n",
       "      <th>followers</th>\n",
       "      <th>totaltweets</th>\n",
       "      <th>tags_splitted</th>\n",
       "      <th>tags_lower</th>\n",
       "      <th>pro_Russian</th>\n",
       "      <th>pro_Ukraine</th>\n",
       "      <th>Neutral</th>\n",
       "      <th>NodeType</th>\n",
       "    </tr>\n",
       "  </thead>\n",
       "  <tbody>\n",
       "    <tr>\n",
       "      <th>0</th>\n",
       "      <td>1497277564200517635</td>\n",
       "      <td>GulambiLamver</td>\n",
       "      <td>0</td>\n",
       "      <td>गुलाबी_स्तान</td>\n",
       "      <td>en</td>\n",
       "      <td>1497433817086234624</td>\n",
       "      <td>2022-02-26 04:50:17</td>\n",
       "      <td>0</td>\n",
       "      <td>[{'text': 'Ukraine', 'indices': [40, 48]}, {'t...</td>\n",
       "      <td>Coz barking is our fundamental right..\\n\\n#Ukr...</td>\n",
       "      <td>2022-02-25 18:29:39</td>\n",
       "      <td>4</td>\n",
       "      <td>0</td>\n",
       "      <td>2</td>\n",
       "      <td>[Ukraine, UkraineUnderAttack, RussiaUkraineWar...</td>\n",
       "      <td>[ukraine, ukraineunderattack, russiaukrainewar...</td>\n",
       "      <td>False</td>\n",
       "      <td>True</td>\n",
       "      <td>True</td>\n",
       "      <td>pro_Ukraine</td>\n",
       "    </tr>\n",
       "    <tr>\n",
       "      <th>1</th>\n",
       "      <td>4832941924</td>\n",
       "      <td>Mari_Berbec</td>\n",
       "      <td>1</td>\n",
       "      <td>Berlin, Germany</td>\n",
       "      <td>en</td>\n",
       "      <td>1497476520742309891</td>\n",
       "      <td>2022-02-26 07:39:58</td>\n",
       "      <td>0</td>\n",
       "      <td>[{'text': 'putin', 'indices': [53, 59]}, {'tex...</td>\n",
       "      <td>@charlieweissr Socialism has nothing to do wit...</td>\n",
       "      <td>2016-01-21 13:57:12</td>\n",
       "      <td>921</td>\n",
       "      <td>224</td>\n",
       "      <td>2848</td>\n",
       "      <td>[putin, trump]</td>\n",
       "      <td>[putin, trump]</td>\n",
       "      <td>False</td>\n",
       "      <td>False</td>\n",
       "      <td>True</td>\n",
       "      <td>Neutral</td>\n",
       "    </tr>\n",
       "    <tr>\n",
       "      <th>2</th>\n",
       "      <td>2314945207</td>\n",
       "      <td>Outspoken_Sam</td>\n",
       "      <td>2</td>\n",
       "      <td>Texas, USA</td>\n",
       "      <td>en</td>\n",
       "      <td>1497066569263767555</td>\n",
       "      <td>2022-02-25 04:30:58</td>\n",
       "      <td>0</td>\n",
       "      <td>[{'text': 'Ukraine', 'indices': [272, 280]}]</td>\n",
       "      <td>We're seeing repeated demonstrations of who Bi...</td>\n",
       "      <td>2014-01-28 05:46:59</td>\n",
       "      <td>1162</td>\n",
       "      <td>642</td>\n",
       "      <td>3869</td>\n",
       "      <td>[Ukraine]</td>\n",
       "      <td>[ukraine]</td>\n",
       "      <td>False</td>\n",
       "      <td>False</td>\n",
       "      <td>True</td>\n",
       "      <td>Neutral</td>\n",
       "    </tr>\n",
       "    <tr>\n",
       "      <th>3</th>\n",
       "      <td>2811043316</td>\n",
       "      <td>joncreed2</td>\n",
       "      <td>3</td>\n",
       "      <td>Nottinghamshire</td>\n",
       "      <td>und</td>\n",
       "      <td>1497308839401635845</td>\n",
       "      <td>2022-02-25 20:33:40</td>\n",
       "      <td>16</td>\n",
       "      <td>[{'text': 'Ukraine', 'indices': [20, 28]}, {'t...</td>\n",
       "      <td>#Ukraine #Nottingham #nottinghamtogether #Stan...</td>\n",
       "      <td>2014-09-15 10:10:32</td>\n",
       "      <td>778</td>\n",
       "      <td>361</td>\n",
       "      <td>3960</td>\n",
       "      <td>[Ukraine, Nottingham, nottinghamtogether, Stan...</td>\n",
       "      <td>[ukraine, nottingham, nottinghamtogether, stan...</td>\n",
       "      <td>False</td>\n",
       "      <td>True</td>\n",
       "      <td>True</td>\n",
       "      <td>pro_Ukraine</td>\n",
       "    </tr>\n",
       "    <tr>\n",
       "      <th>4</th>\n",
       "      <td>1239053406301335552</td>\n",
       "      <td>PChauhan_96</td>\n",
       "      <td>4</td>\n",
       "      <td>Chamba, India</td>\n",
       "      <td>en</td>\n",
       "      <td>1497551063913619457</td>\n",
       "      <td>2022-02-26 12:36:11</td>\n",
       "      <td>276</td>\n",
       "      <td>[{'text': 'Ukraine', 'indices': [34, 42]}]</td>\n",
       "      <td>That's a Leader ❣️ \\n#Ukraine https://t.co/BpF...</td>\n",
       "      <td>2020-03-15 04:59:11</td>\n",
       "      <td>25</td>\n",
       "      <td>6</td>\n",
       "      <td>374</td>\n",
       "      <td>[Ukraine]</td>\n",
       "      <td>[ukraine]</td>\n",
       "      <td>False</td>\n",
       "      <td>False</td>\n",
       "      <td>True</td>\n",
       "      <td>Neutral</td>\n",
       "    </tr>\n",
       "  </tbody>\n",
       "</table>\n",
       "</div>"
      ],
      "text/plain": [
       "                userid       username  textid         location language  \\\n",
       "0  1497277564200517635  GulambiLamver       0     गुलाबी_स्तान       en   \n",
       "1           4832941924    Mari_Berbec       1  Berlin, Germany       en   \n",
       "2           2314945207  Outspoken_Sam       2       Texas, USA       en   \n",
       "3           2811043316      joncreed2       3  Nottinghamshire      und   \n",
       "4  1239053406301335552    PChauhan_96       4    Chamba, India       en   \n",
       "\n",
       "               tweetid       tweetcreatedts  retweetcount  \\\n",
       "0  1497433817086234624  2022-02-26 04:50:17             0   \n",
       "1  1497476520742309891  2022-02-26 07:39:58             0   \n",
       "2  1497066569263767555  2022-02-25 04:30:58             0   \n",
       "3  1497308839401635845  2022-02-25 20:33:40            16   \n",
       "4  1497551063913619457  2022-02-26 12:36:11           276   \n",
       "\n",
       "                                            hashtags  \\\n",
       "0  [{'text': 'Ukraine', 'indices': [40, 48]}, {'t...   \n",
       "1  [{'text': 'putin', 'indices': [53, 59]}, {'tex...   \n",
       "2       [{'text': 'Ukraine', 'indices': [272, 280]}]   \n",
       "3  [{'text': 'Ukraine', 'indices': [20, 28]}, {'t...   \n",
       "4         [{'text': 'Ukraine', 'indices': [34, 42]}]   \n",
       "\n",
       "                                                text       usercreatedts  \\\n",
       "0  Coz barking is our fundamental right..\\n\\n#Ukr... 2022-02-25 18:29:39   \n",
       "1  @charlieweissr Socialism has nothing to do wit... 2016-01-21 13:57:12   \n",
       "2  We're seeing repeated demonstrations of who Bi... 2014-01-28 05:46:59   \n",
       "3  #Ukraine #Nottingham #nottinghamtogether #Stan... 2014-09-15 10:10:32   \n",
       "4  That's a Leader ❣️ \\n#Ukraine https://t.co/BpF... 2020-03-15 04:59:11   \n",
       "\n",
       "   following  followers  totaltweets  \\\n",
       "0          4          0            2   \n",
       "1        921        224         2848   \n",
       "2       1162        642         3869   \n",
       "3        778        361         3960   \n",
       "4         25          6          374   \n",
       "\n",
       "                                       tags_splitted  \\\n",
       "0  [Ukraine, UkraineUnderAttack, RussiaUkraineWar...   \n",
       "1                                     [putin, trump]   \n",
       "2                                          [Ukraine]   \n",
       "3  [Ukraine, Nottingham, nottinghamtogether, Stan...   \n",
       "4                                          [Ukraine]   \n",
       "\n",
       "                                          tags_lower  pro_Russian  \\\n",
       "0  [ukraine, ukraineunderattack, russiaukrainewar...        False   \n",
       "1                                     [putin, trump]        False   \n",
       "2                                          [ukraine]        False   \n",
       "3  [ukraine, nottingham, nottinghamtogether, stan...        False   \n",
       "4                                          [ukraine]        False   \n",
       "\n",
       "   pro_Ukraine  Neutral     NodeType  \n",
       "0         True     True  pro_Ukraine  \n",
       "1        False     True      Neutral  \n",
       "2        False     True      Neutral  \n",
       "3         True     True  pro_Ukraine  \n",
       "4        False     True      Neutral  "
      ]
     },
     "execution_count": 3,
     "metadata": {},
     "output_type": "execute_result"
    }
   ],
   "source": [
    "data = pd.read_pickle(\"preprocessed_data.pkl\")\n",
    "data.head()"
   ]
  },
  {
   "cell_type": "code",
   "execution_count": 4,
   "metadata": {},
   "outputs": [],
   "source": [
    "# Get nodes for bipartite network\n",
    "users = data[\"userid\"]\n",
    "tweets = data[\"textid\"]\n",
    "\n",
    "# Create edge list for bipartite network\n",
    "columns = [\"userid\", \"textid\"]\n",
    "edges = [(user, textid) for user, textid in data[columns].values]\n",
    "\n",
    "# save edge list to file\n",
    "# with open('edges.csv','wb') as file:\n",
    "#     csv_out=csv.writer(out)\n",
    "#     csv_out.writerow(['name','num'])\n",
    "#     for row in data:\n",
    "#         csv_out.writerow(row)"
   ]
  },
  {
   "cell_type": "code",
   "execution_count": 5,
   "metadata": {},
   "outputs": [
    {
     "name": "stdout",
     "output_type": "stream",
     "text": [
      "130608\n",
      "105158\n"
     ]
    }
   ],
   "source": [
    "print(users.nunique())\n",
    "print(tweets.nunique())"
   ]
  },
  {
   "cell_type": "code",
   "execution_count": 6,
   "metadata": {},
   "outputs": [],
   "source": [
    "# bipartite network construction\n",
    "B = nx.Graph()\n",
    "B.name = \"Bipartite user-tweet network\"\n",
    "B.add_nodes_from(users, bipartite=0)\n",
    "B.add_nodes_from(tweets, bipartite=1)\n",
    "B.add_edges_from(edges)"
   ]
  },
  {
   "cell_type": "code",
   "execution_count": 7,
   "metadata": {},
   "outputs": [
    {
     "data": {
      "text/plain": [
       "\"Graph named 'Bipartite user-tweet network' with 235745 nodes and 161429 edges\""
      ]
     },
     "execution_count": 7,
     "metadata": {},
     "output_type": "execute_result"
    }
   ],
   "source": [
    "nx.info(B)"
   ]
  },
  {
   "cell_type": "code",
   "execution_count": 8,
   "metadata": {},
   "outputs": [
    {
     "name": "stdout",
     "output_type": "stream",
     "text": [
      "Graph named 'One-mode user network' with 130619 nodes and 1436926 edges\n",
      "Graph named 'One-mode tweet network' with 106650 nodes and 78517 edges\n"
     ]
    }
   ],
   "source": [
    "users_nodes = {n for n, a in B.nodes(data=True) if a[\"bipartite\"] == 0}\n",
    "tweets_nodes = set(B) - users_nodes\n",
    "\n",
    "B_users = bipartite.projected_graph(B, users_nodes)\n",
    "B_users.name = \"One-mode user network\"\n",
    "B_tweets = bipartite.projected_graph(B, tweets_nodes)\n",
    "B_tweets.name = \"One-mode tweet network\"\n",
    "\n",
    "print(nx.info(B_users))\n",
    "print(nx.info(B_tweets))"
   ]
  },
  {
   "cell_type": "markdown",
   "metadata": {},
   "source": [
    "## Compare two timeframes"
   ]
  },
  {
   "cell_type": "code",
   "execution_count": 9,
   "metadata": {},
   "outputs": [
    {
     "name": "stdout",
     "output_type": "stream",
     "text": [
      "rows of timeframe 1 dataset: 73333\n",
      "rows of timeframe 2 dataset: 88295\n"
     ]
    }
   ],
   "source": [
    "# Filter tweets by time period: before and after the tweeter ban \n",
    "time_before = data[(data['tweetcreatedts'] < '2022-03-04 23:59:59+00:00')]\n",
    "time_after = data[(data['tweetcreatedts'] > '2022-03-04 23:59:59+00:00')]\n",
    "print(\"rows of timeframe 1 dataset:\",len(time_before))\n",
    "print(\"rows of timeframe 2 dataset:\",len(time_after))"
   ]
  },
  {
   "cell_type": "markdown",
   "metadata": {},
   "source": [
    "### (1) timeframe1: before"
   ]
  },
  {
   "cell_type": "code",
   "execution_count": 10,
   "metadata": {},
   "outputs": [
    {
     "name": "stdout",
     "output_type": "stream",
     "text": [
      "66530 unique users in timeframe 1\n",
      "49702 unique tweets in timeframe 1\n"
     ]
    }
   ],
   "source": [
    "# Get nodes for bipartite network\n",
    "users_1 = time_before[\"userid\"]\n",
    "tweets_1 = time_before[\"textid\"]\n",
    "\n",
    "# Create edge list for bipartite network\n",
    "columns = [\"userid\", \"textid\"]\n",
    "edges_1 = time_before[columns]\n",
    "edges_1.to_csv(\"edgelist_t1.csv\",sep = \",\", header = True, encoding = \"UTF-8\",index=False)\n",
    "# same list-type edgelist for network construction\n",
    "edges_1 = [(user, textid) for user, textid in time_before[columns].values]\n",
    "\n",
    "print(users_1.nunique(),\"unique users in timeframe 1\")\n",
    "print(tweets_1.nunique(),\"unique tweets in timeframe 1\")"
   ]
  },
  {
   "cell_type": "code",
   "execution_count": 11,
   "metadata": {},
   "outputs": [
    {
     "name": "stdout",
     "output_type": "stream",
     "text": [
      "Graph named 'One-mode user network 1' with 66532 nodes and 403244 edges\n",
      "Graph named 'One-mode tweet network 1' with 49760 nodes and 10645 edges\n"
     ]
    }
   ],
   "source": [
    "# construct projected one-mode network for users\n",
    "# export edgelist for visualisation\n",
    "B1 = nx.Graph()\n",
    "B1.name = \"Bipartite user-tweet network time 1\"\n",
    "B1.add_nodes_from(users_1, bipartite=0)\n",
    "B1.add_nodes_from(tweets_1, bipartite=1)\n",
    "B1.add_edges_from(edges_1)\n",
    "\n",
    "users_nodes = {n for n, a in B1.nodes(data=True) if a[\"bipartite\"] == 0}\n",
    "tweets_nodes = set(B1) - users_nodes\n",
    "\n",
    "B1_users = bipartite.weighted_projected_graph(B1, users_nodes)\n",
    "B1_users.name = \"One-mode user network 1\"\n",
    "B1_tweets = bipartite.weighted_projected_graph(B1, tweets_nodes)\n",
    "B1_tweets.name = \"One-mode tweet network 1\"\n",
    "\n",
    "print(nx.info(B1_users))\n",
    "print(nx.info(B1_tweets))"
   ]
  },
  {
   "cell_type": "code",
   "execution_count": null,
   "metadata": {},
   "outputs": [],
   "source": [
    "# write edgelist of projected network\n",
    "nx.write_weighted_edgelist(B1_users, \"projected_w_user_edgelist_1.csv\", delimiter=',', encoding='utf-8')   \n",
    "# format the edgelist file for Gephi\n",
    "gephi1_edgelist = pd.read_csv(\"projected_w_user_edgelist_1.csv\",header=None)\n",
    "gephi1_edgelist.columns=['Source','Target','weight']\n",
    "gephi1_edgelist.to_csv(\"projected_w_user_edgelist_1.csv\",sep = \",\", header = True, encoding = \"UTF-8\",index=False)\n"
   ]
  },
  {
   "cell_type": "markdown",
   "metadata": {},
   "source": [
    "### Eigenvector centrality\n",
    "https://networkx.org/documentation/stable/reference/algorithms/generated/networkx.algorithms.centrality.eigenvector_centrality.html"
   ]
  },
  {
   "cell_type": "code",
   "execution_count": 64,
   "metadata": {},
   "outputs": [
    {
     "data": {
      "text/html": [
       "<div>\n",
       "<style scoped>\n",
       "    .dataframe tbody tr th:only-of-type {\n",
       "        vertical-align: middle;\n",
       "    }\n",
       "\n",
       "    .dataframe tbody tr th {\n",
       "        vertical-align: top;\n",
       "    }\n",
       "\n",
       "    .dataframe thead th {\n",
       "        text-align: right;\n",
       "    }\n",
       "</style>\n",
       "<table border=\"1\" class=\"dataframe\">\n",
       "  <thead>\n",
       "    <tr style=\"text-align: right;\">\n",
       "      <th></th>\n",
       "      <th>userid</th>\n",
       "      <th>Eigen_c</th>\n",
       "    </tr>\n",
       "  </thead>\n",
       "  <tbody>\n",
       "    <tr>\n",
       "      <th>0</th>\n",
       "      <td>1255073685158887424</td>\n",
       "      <td>2.567680e-19</td>\n",
       "    </tr>\n",
       "    <tr>\n",
       "      <th>1</th>\n",
       "      <td>956102521503744001</td>\n",
       "      <td>2.006000e-21</td>\n",
       "    </tr>\n",
       "    <tr>\n",
       "      <th>2</th>\n",
       "      <td>1285434543344844802</td>\n",
       "      <td>2.006000e-21</td>\n",
       "    </tr>\n",
       "    <tr>\n",
       "      <th>3</th>\n",
       "      <td>1287813629845307395</td>\n",
       "      <td>1.233965e-09</td>\n",
       "    </tr>\n",
       "    <tr>\n",
       "      <th>4</th>\n",
       "      <td>783003137183449092</td>\n",
       "      <td>1.266071e-11</td>\n",
       "    </tr>\n",
       "    <tr>\n",
       "      <th>...</th>\n",
       "      <td>...</td>\n",
       "      <td>...</td>\n",
       "    </tr>\n",
       "    <tr>\n",
       "      <th>66527</th>\n",
       "      <td>29283</td>\n",
       "      <td>3.767417e-07</td>\n",
       "    </tr>\n",
       "    <tr>\n",
       "      <th>66528</th>\n",
       "      <td>32802</td>\n",
       "      <td>2.968077e-17</td>\n",
       "    </tr>\n",
       "    <tr>\n",
       "      <th>66529</th>\n",
       "      <td>38153</td>\n",
       "      <td>2.567680e-19</td>\n",
       "    </tr>\n",
       "    <tr>\n",
       "      <th>66530</th>\n",
       "      <td>41298</td>\n",
       "      <td>2.567680e-19</td>\n",
       "    </tr>\n",
       "    <tr>\n",
       "      <th>66531</th>\n",
       "      <td>12418</td>\n",
       "      <td>2.567680e-19</td>\n",
       "    </tr>\n",
       "  </tbody>\n",
       "</table>\n",
       "<p>66532 rows × 2 columns</p>\n",
       "</div>"
      ],
      "text/plain": [
       "                    userid       Eigen_c\n",
       "0      1255073685158887424  2.567680e-19\n",
       "1       956102521503744001  2.006000e-21\n",
       "2      1285434543344844802  2.006000e-21\n",
       "3      1287813629845307395  1.233965e-09\n",
       "4       783003137183449092  1.266071e-11\n",
       "...                    ...           ...\n",
       "66527                29283  3.767417e-07\n",
       "66528                32802  2.968077e-17\n",
       "66529                38153  2.567680e-19\n",
       "66530                41298  2.567680e-19\n",
       "66531                12418  2.567680e-19\n",
       "\n",
       "[66532 rows x 2 columns]"
      ]
     },
     "execution_count": 64,
     "metadata": {},
     "output_type": "execute_result"
    }
   ],
   "source": [
    "eigen_c1 = nx.eigenvector_centrality(B1_users, max_iter=100)\n",
    "#eigen_c1 = dict(sorted(eigen_c1.items(),key= lambda x:x[1]))\n",
    "len(eigen_c1)\n",
    "# covert dic to dataframe \n",
    "eigen_c1 = pd.DataFrame(list(eigen_c1.items()),columns = ['userid','Eigen_c']) \n",
    "eigen_c1"
   ]
  },
  {
   "cell_type": "markdown",
   "metadata": {},
   "source": [
    "### (2) timeframe2: After"
   ]
  },
  {
   "cell_type": "code",
   "execution_count": 27,
   "metadata": {},
   "outputs": [
    {
     "name": "stdout",
     "output_type": "stream",
     "text": [
      "72022 unique users in timeframe 2\n",
      "56463 unique tweets in timeframe 2\n"
     ]
    }
   ],
   "source": [
    "# Get nodes for bipartite network\n",
    "users_2 = time_after[\"userid\"]\n",
    "tweets_2 = time_after[\"textid\"]\n",
    "\n",
    "# Create edge list for bipartite network\n",
    "columns = [\"userid\", \"textid\"]\n",
    "edges_2 = time_after[columns]\n",
    "edges_2.to_csv(\"edgelist_t2.csv\",sep = \",\", header = True, encoding = \"UTF-8\",index=False)\n",
    "# same list-type edgelist for network construction\n",
    "edges_2 = [(user, textid) for user, textid in time_after[columns].values]\n",
    "\n",
    "print(users_2.nunique(),\"unique users in timeframe 2\")\n",
    "print(tweets_2.nunique(),\"unique tweets in timeframe 2\")"
   ]
  },
  {
   "cell_type": "code",
   "execution_count": 28,
   "metadata": {},
   "outputs": [
    {
     "name": "stdout",
     "output_type": "stream",
     "text": [
      "Graph named 'One-mode user network 2' with 72025 nodes and 959639 edges\n",
      "Graph named 'One-mode tweet network 2' with 57184 nodes and 40248 edges\n"
     ]
    }
   ],
   "source": [
    "# construct projected one-mode network for users\n",
    "# export edgelist for visualisation\n",
    "B2 = nx.Graph()\n",
    "B2.name = \"Bipartite user-tweet network time 2\"\n",
    "B2.add_nodes_from(users_2, bipartite=0)\n",
    "B2.add_nodes_from(tweets_2, bipartite=1)\n",
    "B2.add_edges_from(edges_2)\n",
    "\n",
    "users_nodes = {n for n, a in B2.nodes(data=True) if a[\"bipartite\"] == 0}\n",
    "tweets_nodes = set(B2) - users_nodes\n",
    "\n",
    "B2_users = bipartite.weighted_projected_graph(B2, users_nodes)\n",
    "B2_users.name = \"One-mode user network 2\"\n",
    "B2_tweets = bipartite.weighted_projected_graph(B2, tweets_nodes)\n",
    "B2_tweets.name = \"One-mode tweet network 2\"\n",
    "\n",
    "print(nx.info(B2_users))\n",
    "print(nx.info(B2_tweets))"
   ]
  },
  {
   "cell_type": "code",
   "execution_count": null,
   "metadata": {},
   "outputs": [],
   "source": [
    "# write edgelist of projected network\n",
    "nx.write_weighted_edgelist(B2_users, \"projected_w_user_edgelist_2.csv\", delimiter=',', encoding='utf-8') \n",
    "# format the edgelist file for Gephi\n",
    "gephi2_edgelist = pd.read_csv(\"projected_w_user_edgelist_2.csv\",header=None)\n",
    "gephi2_edgelist.columns=['Source','Target','weight']\n",
    "gephi2_edgelist.to_csv(\"projected_w_user_edgelist_2.csv\",sep = \",\", header = True, encoding = \"UTF-8\",index=False)\n"
   ]
  },
  {
   "cell_type": "markdown",
   "metadata": {},
   "source": [
    "### Eigenvector centrality"
   ]
  },
  {
   "cell_type": "code",
   "execution_count": 65,
   "metadata": {},
   "outputs": [],
   "source": [
    "eigen_c2 = nx.eigenvector_centrality(B2_users, max_iter=100)\n",
    "#engen_c2 = dict(sorted(eigen_c2.items(),key= lambda x:x[1]))\n",
    "len(engen_c2)\n",
    "# covert dic to dataframe \n",
    "eigen_c2 = pd.DataFrame(list(eigen_c2.items()),columns = ['userid','Eigen_c']) \n",
    "#eigen_c2"
   ]
  },
  {
   "cell_type": "markdown",
   "metadata": {},
   "source": [
    "## Export nodelist"
   ]
  },
  {
   "cell_type": "markdown",
   "metadata": {},
   "source": [
    "### Mark the nodes appeared in the projected user network"
   ]
  },
  {
   "cell_type": "code",
   "execution_count": 52,
   "metadata": {},
   "outputs": [],
   "source": [
    "nodelist1 = list(B1_users.nodes)\n",
    "nodelist2 = list(B2_users.nodes)\n",
    "\n",
    "# lambda functions marking political orientation if related hashtags were found \n",
    "node1_check = lambda node: int(node) in nodelist1 # return true if userid of the nodes in overlap list\n",
    "node2_check = lambda node: int(node) in nodelist2\n",
    "\n",
    "data['nodeInG1'] = data['userid'].apply(node1_check)\n",
    "data['nodeInG2'] = data['userid'].apply(node2_check)\n",
    "\n",
    "# format node ID for Gephi\n",
    "data[\"ID\"] = data[\"userid\"].apply(lambda x: int(x))"
   ]
  },
  {
   "cell_type": "code",
   "execution_count": 54,
   "metadata": {},
   "outputs": [
    {
     "data": {
      "text/html": [
       "<div>\n",
       "<style scoped>\n",
       "    .dataframe tbody tr th:only-of-type {\n",
       "        vertical-align: middle;\n",
       "    }\n",
       "\n",
       "    .dataframe tbody tr th {\n",
       "        vertical-align: top;\n",
       "    }\n",
       "\n",
       "    .dataframe thead th {\n",
       "        text-align: right;\n",
       "    }\n",
       "</style>\n",
       "<table border=\"1\" class=\"dataframe\">\n",
       "  <thead>\n",
       "    <tr style=\"text-align: right;\">\n",
       "      <th></th>\n",
       "      <th>userid</th>\n",
       "      <th>username</th>\n",
       "      <th>textid</th>\n",
       "      <th>location</th>\n",
       "      <th>language</th>\n",
       "      <th>tweetid</th>\n",
       "      <th>tweetcreatedts</th>\n",
       "      <th>retweetcount</th>\n",
       "      <th>hashtags</th>\n",
       "      <th>text</th>\n",
       "      <th>...</th>\n",
       "      <th>pro_Ukraine</th>\n",
       "      <th>Neutral</th>\n",
       "      <th>NodeType</th>\n",
       "      <th>R_i</th>\n",
       "      <th>U_i</th>\n",
       "      <th>N_i</th>\n",
       "      <th>polar_index</th>\n",
       "      <th>nodeInG1</th>\n",
       "      <th>nodeInG2</th>\n",
       "      <th>ID</th>\n",
       "    </tr>\n",
       "  </thead>\n",
       "  <tbody>\n",
       "    <tr>\n",
       "      <th>0</th>\n",
       "      <td>1497277564200517635</td>\n",
       "      <td>GulambiLamver</td>\n",
       "      <td>0</td>\n",
       "      <td>गुलाबी_स्तान</td>\n",
       "      <td>en</td>\n",
       "      <td>1497433817086234624</td>\n",
       "      <td>2022-02-26 04:50:17</td>\n",
       "      <td>0</td>\n",
       "      <td>[{'text': 'Ukraine', 'indices': [40, 48]}, {'t...</td>\n",
       "      <td>Coz barking is our fundamental right..\\n\\n#Ukr...</td>\n",
       "      <td>...</td>\n",
       "      <td>True</td>\n",
       "      <td>True</td>\n",
       "      <td>pro_Ukraine</td>\n",
       "      <td>0</td>\n",
       "      <td>1</td>\n",
       "      <td>1</td>\n",
       "      <td>1</td>\n",
       "      <td>True</td>\n",
       "      <td>False</td>\n",
       "      <td>1497277564200517635</td>\n",
       "    </tr>\n",
       "    <tr>\n",
       "      <th>1</th>\n",
       "      <td>4832941924</td>\n",
       "      <td>Mari_Berbec</td>\n",
       "      <td>1</td>\n",
       "      <td>Berlin, Germany</td>\n",
       "      <td>en</td>\n",
       "      <td>1497476520742309891</td>\n",
       "      <td>2022-02-26 07:39:58</td>\n",
       "      <td>0</td>\n",
       "      <td>[{'text': 'putin', 'indices': [53, 59]}, {'tex...</td>\n",
       "      <td>@charlieweissr Socialism has nothing to do wit...</td>\n",
       "      <td>...</td>\n",
       "      <td>False</td>\n",
       "      <td>True</td>\n",
       "      <td>Neutral</td>\n",
       "      <td>0</td>\n",
       "      <td>0</td>\n",
       "      <td>1</td>\n",
       "      <td>0</td>\n",
       "      <td>True</td>\n",
       "      <td>True</td>\n",
       "      <td>4832941924</td>\n",
       "    </tr>\n",
       "    <tr>\n",
       "      <th>2</th>\n",
       "      <td>2314945207</td>\n",
       "      <td>Outspoken_Sam</td>\n",
       "      <td>2</td>\n",
       "      <td>Texas, USA</td>\n",
       "      <td>en</td>\n",
       "      <td>1497066569263767555</td>\n",
       "      <td>2022-02-25 04:30:58</td>\n",
       "      <td>0</td>\n",
       "      <td>[{'text': 'Ukraine', 'indices': [272, 280]}]</td>\n",
       "      <td>We're seeing repeated demonstrations of who Bi...</td>\n",
       "      <td>...</td>\n",
       "      <td>False</td>\n",
       "      <td>True</td>\n",
       "      <td>Neutral</td>\n",
       "      <td>0</td>\n",
       "      <td>0</td>\n",
       "      <td>1</td>\n",
       "      <td>0</td>\n",
       "      <td>True</td>\n",
       "      <td>False</td>\n",
       "      <td>2314945207</td>\n",
       "    </tr>\n",
       "  </tbody>\n",
       "</table>\n",
       "<p>3 rows × 27 columns</p>\n",
       "</div>"
      ],
      "text/plain": [
       "                userid       username  textid         location language  \\\n",
       "0  1497277564200517635  GulambiLamver       0     गुलाबी_स्तान       en   \n",
       "1           4832941924    Mari_Berbec       1  Berlin, Germany       en   \n",
       "2           2314945207  Outspoken_Sam       2       Texas, USA       en   \n",
       "\n",
       "               tweetid       tweetcreatedts  retweetcount  \\\n",
       "0  1497433817086234624  2022-02-26 04:50:17             0   \n",
       "1  1497476520742309891  2022-02-26 07:39:58             0   \n",
       "2  1497066569263767555  2022-02-25 04:30:58             0   \n",
       "\n",
       "                                            hashtags  \\\n",
       "0  [{'text': 'Ukraine', 'indices': [40, 48]}, {'t...   \n",
       "1  [{'text': 'putin', 'indices': [53, 59]}, {'tex...   \n",
       "2       [{'text': 'Ukraine', 'indices': [272, 280]}]   \n",
       "\n",
       "                                                text  ... pro_Ukraine  \\\n",
       "0  Coz barking is our fundamental right..\\n\\n#Ukr...  ...        True   \n",
       "1  @charlieweissr Socialism has nothing to do wit...  ...       False   \n",
       "2  We're seeing repeated demonstrations of who Bi...  ...       False   \n",
       "\n",
       "   Neutral     NodeType  R_i U_i N_i  polar_index  nodeInG1  nodeInG2  \\\n",
       "0     True  pro_Ukraine    0   1   1            1      True     False   \n",
       "1     True      Neutral    0   0   1            0      True      True   \n",
       "2     True      Neutral    0   0   1            0      True     False   \n",
       "\n",
       "                    ID  \n",
       "0  1497277564200517635  \n",
       "1           4832941924  \n",
       "2           2314945207  \n",
       "\n",
       "[3 rows x 27 columns]"
      ]
     },
     "execution_count": 54,
     "metadata": {},
     "output_type": "execute_result"
    }
   ],
   "source": [
    "data.head(3)"
   ]
  },
  {
   "cell_type": "markdown",
   "metadata": {},
   "source": [
    "### Construct a political orientation index for ID"
   ]
  },
  {
   "cell_type": "code",
   "execution_count": 57,
   "metadata": {},
   "outputs": [
    {
     "data": {
      "text/html": [
       "<div>\n",
       "<style scoped>\n",
       "    .dataframe tbody tr th:only-of-type {\n",
       "        vertical-align: middle;\n",
       "    }\n",
       "\n",
       "    .dataframe tbody tr th {\n",
       "        vertical-align: top;\n",
       "    }\n",
       "\n",
       "    .dataframe thead th {\n",
       "        text-align: right;\n",
       "    }\n",
       "</style>\n",
       "<table border=\"1\" class=\"dataframe\">\n",
       "  <thead>\n",
       "    <tr style=\"text-align: right;\">\n",
       "      <th></th>\n",
       "      <th>userid</th>\n",
       "      <th>polar_i</th>\n",
       "    </tr>\n",
       "  </thead>\n",
       "  <tbody>\n",
       "    <tr>\n",
       "      <th>11706</th>\n",
       "      <td>88196314</td>\n",
       "      <td>54</td>\n",
       "    </tr>\n",
       "    <tr>\n",
       "      <th>60789</th>\n",
       "      <td>4503483681</td>\n",
       "      <td>47</td>\n",
       "    </tr>\n",
       "    <tr>\n",
       "      <th>89284</th>\n",
       "      <td>1203552378382934016</td>\n",
       "      <td>44</td>\n",
       "    </tr>\n",
       "    <tr>\n",
       "      <th>88935</th>\n",
       "      <td>1197961849314168833</td>\n",
       "      <td>41</td>\n",
       "    </tr>\n",
       "    <tr>\n",
       "      <th>129023</th>\n",
       "      <td>1499763123603050497</td>\n",
       "      <td>39</td>\n",
       "    </tr>\n",
       "    <tr>\n",
       "      <th>...</th>\n",
       "      <td>...</td>\n",
       "      <td>...</td>\n",
       "    </tr>\n",
       "    <tr>\n",
       "      <th>49258</th>\n",
       "      <td>2435380381</td>\n",
       "      <td>-2</td>\n",
       "    </tr>\n",
       "    <tr>\n",
       "      <th>98928</th>\n",
       "      <td>1307865457903448064</td>\n",
       "      <td>-3</td>\n",
       "    </tr>\n",
       "    <tr>\n",
       "      <th>8582</th>\n",
       "      <td>53665207</td>\n",
       "      <td>-3</td>\n",
       "    </tr>\n",
       "    <tr>\n",
       "      <th>120974</th>\n",
       "      <td>1484008649916051457</td>\n",
       "      <td>-3</td>\n",
       "    </tr>\n",
       "    <tr>\n",
       "      <th>129372</th>\n",
       "      <td>1499965514227060740</td>\n",
       "      <td>-5</td>\n",
       "    </tr>\n",
       "  </tbody>\n",
       "</table>\n",
       "<p>130608 rows × 2 columns</p>\n",
       "</div>"
      ],
      "text/plain": [
       "                     userid  polar_i\n",
       "11706              88196314       54\n",
       "60789            4503483681       47\n",
       "89284   1203552378382934016       44\n",
       "88935   1197961849314168833       41\n",
       "129023  1499763123603050497       39\n",
       "...                     ...      ...\n",
       "49258            2435380381       -2\n",
       "98928   1307865457903448064       -3\n",
       "8582               53665207       -3\n",
       "120974  1484008649916051457       -3\n",
       "129372  1499965514227060740       -5\n",
       "\n",
       "[130608 rows x 2 columns]"
      ]
     },
     "execution_count": 57,
     "metadata": {},
     "output_type": "execute_result"
    }
   ],
   "source": [
    "data['R_i'] = np.where(data['pro_Russian'],1,0)\n",
    "data['U_i'] = np.where(data['pro_Ukraine'],1,0)\n",
    "data['N_i'] = np.where(data['Neutral'],1,0)\n",
    "\n",
    "#data.groupby('userid',as_index=False)['R_i'].sum().sort_values(by=['R_i'],ascending=False)\n",
    "#data.groupby('userid',as_index=False)['U_i'].sum().sort_values(by=['U_i'],ascending=False)\n",
    "#data.groupby('userid',as_index=False)['N_i'].sum().sort_values(by=['N_i'],ascending=False)\n",
    "data[\"polar_i\"] = data[\"U_i\"] - data[\"R_i\"]\n",
    "polar_index = data.groupby('userid',as_index=False)['polar_i'].sum().sort_values(by=['polar_i'],ascending=False)\n",
    "# positive score: pro-Ukraine, negative score: pro-Russian\n",
    "polar_index"
   ]
  },
  {
   "cell_type": "markdown",
   "metadata": {},
   "source": [
    "### Add Eigenvector and political orientation index to nodelist for Gephi"
   ]
  },
  {
   "cell_type": "code",
   "execution_count": 66,
   "metadata": {},
   "outputs": [
    {
     "name": "stdout",
     "output_type": "stream",
     "text": [
      "66527 unique users identified in gephi graph in timeframe 1\n",
      "72019 unique users identified in gephi graph in timeframe 2\n"
     ]
    }
   ],
   "source": [
    "# select info from pre-processed and labelled dataframe\n",
    "node_columns = [\"userid\",\"username\",\"usercreatedts\",\"following\",\"followers\",\"totaltweets\",\"NodeType\",\"ID\"]\n",
    "\n",
    "nodelist1 = data[data['nodeInG1']][node_columns]\n",
    "nodelist2 = data[data['nodeInG2']][node_columns]\n",
    "\n",
    "nodelist1 = pd.merge(nodelist1, polar_index, how = 'left',on='userid')\n",
    "nodelist2 = pd.merge(nodelist2, polar_index, how = 'left',on='userid')\n",
    "\n",
    "nodelist1 = pd.merge(nodelist1, eigen_c1, how='left',on=\"userid\")\n",
    "nodelist2 = pd.merge(nodelist2, eigen_c2, how='left',on=\"userid\")\n",
    "\n",
    "print(nodelist1[\"ID\"].nunique(),\"unique users identified in gephi graph in timeframe 1\")\n",
    "print(nodelist2[\"ID\"].nunique(),\"unique users identified in gephi graph in timeframe 2\")"
   ]
  },
  {
   "cell_type": "code",
   "execution_count": 67,
   "metadata": {},
   "outputs": [],
   "source": [
    "nodelist1.to_csv(\"nodelist1.csv\",sep = \",\", header = True, encoding = \"UTF-8\",index=False)\n",
    "nodelist2.to_csv(\"nodelist2.csv\",sep = \",\", header = True, encoding = \"UTF-8\",index=False)"
   ]
  },
  {
   "cell_type": "code",
   "execution_count": null,
   "metadata": {},
   "outputs": [],
   "source": []
  }
 ],
 "metadata": {
  "interpreter": {
   "hash": "c7abe0519a6191451e7f8db70f9d941d7f04cf20d8ebf6fe38ded5796f8212f0"
  },
  "kernelspec": {
   "display_name": "Python 3 (ipykernel)",
   "language": "python",
   "name": "python3"
  },
  "language_info": {
   "codemirror_mode": {
    "name": "ipython",
    "version": 3
   },
   "file_extension": ".py",
   "mimetype": "text/x-python",
   "name": "python",
   "nbconvert_exporter": "python",
   "pygments_lexer": "ipython3",
   "version": "3.9.12"
  }
 },
 "nbformat": 4,
 "nbformat_minor": 2
}