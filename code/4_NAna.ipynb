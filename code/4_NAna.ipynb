{
 "cells": [
  {
   "cell_type": "code",
   "execution_count": null,
   "metadata": {},
   "outputs": [],
   "source": [
    "### Network analysis\n",
    "# Centralities\n",
    "# Clusters\n",
    "# Bot detection"
   ]
  },
  {
   "cell_type": "markdown",
   "metadata": {},
   "source": [
    "Bot detection"
   ]
  },
  {
   "cell_type": "code",
   "execution_count": 4,
   "metadata": {},
   "outputs": [
    {
     "name": "stdout",
     "output_type": "stream",
     "text": [
      "{'cap': {'english': 0.8995513244218455, 'universal': 0.8733944954488508}, 'display_scores': {'english': {'astroturf': 0.8, 'fake_follower': 1.9, 'financial': 0.2, 'other': 4.7, 'overall': 4.7, 'self_declared': 4.6, 'spammer': 0.8}, 'universal': {'astroturf': 0.8, 'fake_follower': 1.2, 'financial': 0.2, 'other': 4.4, 'overall': 4.6, 'self_declared': 4.6, 'spammer': 0.8}}, 'raw_scores': {'english': {'astroturf': 0.17, 'fake_follower': 0.38, 'financial': 0.03, 'other': 0.94, 'overall': 0.94, 'self_declared': 0.93, 'spammer': 0.16}, 'universal': {'astroturf': 0.15, 'fake_follower': 0.24, 'financial': 0.04, 'other': 0.87, 'overall': 0.91, 'self_declared': 0.91, 'spammer': 0.15}}, 'user': {'majority_lang': 'en', 'user_data': {'id_str': '3380828067', 'screen_name': 'dsn_status'}}}\n"
     ]
    }
   ],
   "source": [
    "### Get results from botometer\n",
    "# More info: https://github.com/IUNetSci/botometer-python\n",
    "\n",
    "# !pip3 install botometer\n",
    "# !pip3 install requests tweepy #dependencies for botometer\n",
    "import botometer\n",
    "from config import *\n",
    "\n",
    "bom = botometer.Botometer(wait_on_ratelimit=True,\n",
    "                          rapidapi_key=rapidapi_key,\n",
    "                          **twitter_app_auth)\n",
    "\n",
    "accounts = ['@dsn_status'] #list of ids or usernames\n",
    "results = []\n",
    "for screen_name, result in bom.check_accounts_in(accounts):\n",
    "    results.append(result)"
   ]
  },
  {
   "cell_type": "code",
   "execution_count": null,
   "metadata": {},
   "outputs": [],
   "source": [
    "# Check results. If bot: add results to the attributes\n",
    "for result in results:\n",
    "\n",
    "    english_benchmark = result[\"cap\"][\"english\"]\n",
    "    universal_benchmark = result[\"cap\"][\"universal\"]\n",
    "    english_score = result[\"raw_scores\"][\"english\"][\"overall\"]\n",
    "    universal_score = result[\"raw_scores\"][\"universal\"][\"overall\"]\n",
    "\n",
    "    bot_en = False\n",
    "    if english_score >= english_benchmark:\n",
    "        bot_en = True\n",
    "        \n",
    "    bot_uni = False\n",
    "    if universal_score >= universal_benchmark:\n",
    "        bot_uni = True\n",
    "        \n",
    "    if bot_en or bot_uni:\n",
    "        english_all_scores = result[\"raw_scores\"][\"english\"]\n",
    "        universal_all_scores = result[\"raw_scores\"][\"universal\"]\n",
    "        # print(\"I'm a bot\")\n",
    "        # add bot scores attribute to the node\n",
    "\n",
    "\n",
    "# example result: {'cap':\n",
    "#   {'english': 0.8995513244218455, 'universal': 0.8733944954488508},\n",
    "#       'display_scores':\n",
    "#           {'english': {'astroturf': 0.8, 'fake_follower': 1.9, 'financial': 0.2, 'other': 4.7, 'overall': 4.7, 'self_declared': 4.6, 'spammer': 0.8},\n",
    "#           universal': {'astroturf': 0.8, 'fake_follower': 1.2, 'financial': 0.2, 'other': 4.4, 'overall': 4.6, 'self_declared': 4.6, 'spammer': 0.8}},\n",
    "#       'raw_scores':\n",
    "#           {'english': {'astroturf': 0.17, 'fake_follower': 0.38, 'financial': 0.03, 'other': 0.94, 'overall': 0.94, 'self_declared': 0.93, 'spammer': 0.16},\n",
    "#           'universal': {'astroturf': 0.15, 'fake_follower': 0.24, 'financial': 0.04, 'other': 0.87, 'overall': 0.91, 'self_declared': 0.91, 'spammer': 0.15}},\n",
    "#   'user': {'majority_lang': 'en', 'user_data': {'id_str': '3380828067', 'screen_name': 'dsn_status'}}}"
   ]
  }
 ],
 "metadata": {
  "interpreter": {
   "hash": "c7abe0519a6191451e7f8db70f9d941d7f04cf20d8ebf6fe38ded5796f8212f0"
  },
  "kernelspec": {
   "display_name": "Python 3.8.8 64-bit ('base': conda)",
   "name": "python3"
  },
  "language_info": {
   "codemirror_mode": {
    "name": "ipython",
    "version": 3
   },
   "file_extension": ".py",
   "mimetype": "text/x-python",
   "name": "python",
   "nbconvert_exporter": "python",
   "pygments_lexer": "ipython3",
   "version": "3.8.8"
  },
  "orig_nbformat": 4
 },
 "nbformat": 4,
 "nbformat_minor": 2
}
