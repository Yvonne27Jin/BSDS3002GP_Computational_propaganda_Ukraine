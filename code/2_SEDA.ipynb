{
 "cells": [
  {
   "cell_type": "code",
   "execution_count": null,
   "metadata": {},
   "outputs": [],
   "source": [
    "### Simple Exploratory data analysis (EDA)\n",
    "# data file: preprocessed_data.pkl\n",
    "# total tweets distribution\n",
    "# follower distribution\n",
    "# following distribution\n",
    "# user created time distribution\n",
    "# location distribution\n",
    "# language distribution\n",
    "# retweets count distribution\n",
    "# political stance distribution\n",
    "# hashtags distribution"
   ]
  },
  {
   "cell_type": "code",
   "execution_count": 18,
   "metadata": {},
   "outputs": [],
   "source": [
    "import pandas as pd\n",
    "import numpy as np\n",
    "import statistics as st\n",
    "import matplotlib.pyplot as plt\n",
    "%matplotlib inline"
   ]
  },
  {
   "cell_type": "code",
   "execution_count": 2,
   "metadata": {},
   "outputs": [],
   "source": [
    "data = pd.read_pickle(\"preprocessed_data.pkl\")"
   ]
  },
  {
   "cell_type": "code",
   "execution_count": null,
   "metadata": {},
   "outputs": [],
   "source": [
    "# # export non-labeled tweets to take a look\n",
    "\n",
    "# no_na = df1[df1['tags_splitted']!=\"NA\"]\n",
    "# # 10594 tweets with no tags\n",
    "\n",
    "# # check rows rabeled by neither of two groups\n",
    "# non_R = no_na[no_na['pro_Russian']==False]\n",
    "# non = non_R[non_R['pro_Ukraine']==False]\n",
    "\n",
    "\n",
    "# # export dataframe \n",
    "# #non.to_csv(\"sampled_dataset_not_labeled.csv\",sep = \",\", header = True, encoding = \"UTF-8\")\n",
    "# non\n",
    "\n",
    "# df_U = non[non['text'].str.contains('Rassian fascists')]\n",
    "# # tried keywords but no results in the sample "
   ]
  },
  {
   "cell_type": "code",
   "execution_count": null,
   "metadata": {},
   "outputs": [],
   "source": [
    "# no_tag = df1[df1['tags_splitted']==\"NA\"]\n",
    "# # 10594 tweets with no hashtags\n",
    "\n",
    "# # 255 labeled as pro-Russia\n",
    "# proRussia = df1[df1['pro_Russian']==True]\n",
    "# proRussiaNoUkraine = df1[(df1['pro_Russian']==True) & (df1['pro_Ukraine']==False)]\n",
    "\n",
    "# # 6412 labeled as pro-Ukraine\n",
    "# proUkraine = df1[df1['pro_Ukraine']==True]\n",
    "# proUkraineNoRussia = df1[(df1['pro_Russian']==False) & (df1['pro_Ukraine']==True)]\n",
    "\n",
    "# # still a lot rabeled by neither of two groups\n",
    "# non_R = df1[df1['pro_Russian']==False]\n",
    "# # non = non_R[non_R['pro_Ukraine']==False]\n",
    "\n",
    "# non = df1[(df1['pro_Russian']==False) & (df1['pro_Ukraine']==False)]\n",
    "# both = df1[(df1['pro_Russian']==True) & (df1['pro_Ukraine']==True)]\n",
    "\n",
    "# display(proRussia.shape)\n",
    "# display(proUkraine.shape)\n",
    "# display(non.shape)\n",
    "# display(both.shape)\n",
    "# display(proRussiaNoUkraine.shape)\n",
    "# display(proUkraineNoRussia.shape)\n"
   ]
  },
  {
   "cell_type": "code",
   "execution_count": null,
   "metadata": {},
   "outputs": [],
   "source": [
    "# node_columns = [\"userid\",\"username\",\"usercreatedts\",\"following\",\"followers\",\"totaltweets\",\"pro_Russian\",\"pro_Ukraine\"]\n",
    "# nodesBefore = df1[node_columns][(df1['tweetcreatedts'] < '2022-03-04 24:59:59+00:00')]\n",
    "# nodesAfter = df1[node_columns][(df1['tweetcreatedts'] > '2022-03-04 24:59:59+00:00')]\n",
    "\n",
    "# difAll = round(len(nodesAfter) * 100 / len(nodesBefore), 2)\n",
    "# print(\"Tweets before Russia's block:\", len(nodesBefore), \"and after:\", len(nodesAfter), \"\\nDifference:\", difAll, len(nodesBefore)-len(nodesAfter))\n",
    "\n",
    "# proRussianBefore = proRussia[node_columns][(proRussia['tweetcreatedts'] < '2022-03-04 24:59:59+00:00')]\n",
    "# proRussianAfter = proRussia[node_columns][(proRussia['tweetcreatedts'] > '2022-03-04 24:59:59+00:00')]\n",
    "# difRus = round(len(proRussianAfter) * 100 / len(proRussianBefore),2)\n",
    "# print(\"Pro-Russian tweets before Russia's block:\", len(proRussianBefore), \"and after:\", len(proRussianAfter), \"\\nDifference:\", difRus, len(proRussianBefore)-len(proRussianAfter))\n",
    "\n",
    "# ratioBefore = round(len(proRussianBefore)/len(nodesBefore), 4)\n",
    "# ratioAfter = round(len(proRussianAfter)/len(nodesAfter), 4)\n",
    "\n",
    "# print(\"Ratio pro-Russian:Total tweets before block:\", ratioBefore, \"and after:\", ratioAfter)\n",
    "\n",
    "\n",
    "# proUkraineBefore = proUkraine[node_columns][(proUkraine['tweetcreatedts'] < '2022-03-04 24:59:59+00:00')]\n",
    "# proUkraineAfter = proUkraine[node_columns][(proUkraine['tweetcreatedts'] > '2022-03-04 24:59:59+00:00')]\n",
    "# difUkr = round(len(proUkraineAfter) * 100 / len(proUkraineBefore),2)\n",
    "# print(\"Pro-Ukrainian tweets before Russia's block:\", len(proUkraineBefore), \"and after:\", len(proUkraineAfter), \"\\nDifference:\", difUkr, len(proUkraineBefore)-len(proUkraineAfter))\n",
    "\n",
    "\n",
    "# bothBefore = both[node_columns][(both['tweetcreatedts'] < '2022-03-04 24:59:59+00:00')]\n",
    "# bothAfter = both[node_columns][(both['tweetcreatedts'] > '2022-03-04 24:59:59+00:00')]\n",
    "# difBoth = round(len(bothAfter) * 100 / len(bothBefore),2)\n",
    "# print(\"Both tweets before Russia's block:\", len(bothBefore), \"and after:\", len(bothAfter), \"\\nDifference:\", difBoth, len(bothBefore)-len(bothAfter))\n",
    "\n",
    "\n",
    "# nonBefore = non[node_columns][(non['tweetcreatedts'] < '2022-03-04 24:59:59+00:00')]\n",
    "# nonAfter = non[node_columns][(non['tweetcreatedts'] > '2022-03-04 24:59:59+00:00')]\n",
    "# difNon = round(len(nonAfter) * 100 / len(nonBefore),2)\n",
    "# print(\"Neutral tweets before Russia's block:\", len(nonBefore), \"and after:\", len(nonAfter), \"\\nDifference:\", difNon, len(nonBefore)-len(nonAfter))"
   ]
  },
  {
   "cell_type": "code",
   "execution_count": 20,
   "metadata": {},
   "outputs": [
    {
     "name": "stdout",
     "output_type": "stream",
     "text": [
      "1\n",
      "9769.5\n",
      "50107.60667087386\n",
      "count    1.616280e+05\n",
      "mean     5.010761e+04\n",
      "std      1.280532e+05\n",
      "min      0.000000e+00\n",
      "25%      1.523000e+03\n",
      "50%      9.769500e+03\n",
      "75%      4.405700e+04\n",
      "max      6.967834e+06\n",
      "Name: totaltweets, dtype: float64\n",
      "6967834 0\n"
     ]
    }
   ],
   "source": [
    "# total tweets distribution\n",
    "\n",
    "plt.rcParams.update({'figure.figsize':(7,5), 'figure.dpi':100})\n",
    "\n",
    "# Plot Histogram on x\n",
    "x = data[\"totaltweets\"]\n",
    "print(st.mode(x))\n",
    "print(st.median(x))\n",
    "print(st.mean(x))\n",
    "print(x.describe())\n",
    "max_value = x.max()\n",
    "min_value = x.min()\n",
    "print(max_value, min_value)\n",
    "\n",
    "\n",
    "# plt.hist(data, bins=np.arange(data.min(), data.max()+1))\n",
    "# plt.hist(x, bins=200) #doesn't show clearly, need to change\n",
    "# plt.gca().set(title='Frequency Histogram', ylabel='Frequency')"
   ]
  },
  {
   "cell_type": "code",
   "execution_count": 22,
   "metadata": {},
   "outputs": [
    {
     "name": "stdout",
     "output_type": "stream",
     "text": [
      "count    1.616280e+05\n",
      "mean     1.332195e+04\n",
      "std      2.939765e+05\n",
      "min      0.000000e+00\n",
      "25%      5.100000e+01\n",
      "50%      2.820000e+02\n",
      "75%      1.237000e+03\n",
      "max      1.755703e+07\n",
      "Name: followers, dtype: float64\n",
      "0\n",
      "282.0\n",
      "13321.949606503824\n",
      "17557028 0\n"
     ]
    },
    {
     "data": {
      "text/plain": [
       "[Text(0.5, 1.0, 'Frequency Histogram'), Text(0, 0.5, 'Frequency')]"
      ]
     },
     "execution_count": 22,
     "metadata": {},
     "output_type": "execute_result"
    },
    {
     "data": {
      "image/png": "[encoded data removed]",
      "text/plain": [
       "<Figure size 700x500 with 1 Axes>"
      ]
     },
     "metadata": {
      "needs_background": "light"
     },
     "output_type": "display_data"
    }
   ],
   "source": [
    "# follower distribution\n",
    "\n",
    "plt.rcParams.update({'figure.figsize':(7,5), 'figure.dpi':100})\n",
    "\n",
    "# Plot Histogram on x\n",
    "x = data[\"followers\"]\n",
    "print(x.describe())\n",
    "\n",
    "print(st.mode(x))\n",
    "print(st.median(x))\n",
    "print(st.mean(x))\n",
    "\n",
    "max_value = x.max()\n",
    "min_value = x.min()\n",
    "print(max_value, min_value)\n",
    "\n",
    "\n",
    "# plt.hist(data, bins=np.arange(data.min(), data.max()+1))\n",
    "plt.hist(x, bins=10)  #doesn't show clearly, need to change\n",
    "plt.gca().set(title='Frequency Histogram', ylabel='Frequency')"
   ]
  },
  {
   "cell_type": "code",
   "execution_count": 24,
   "metadata": {},
   "outputs": [
    {
     "name": "stdout",
     "output_type": "stream",
     "text": [
      "count    161628.000000\n",
      "mean       1800.759701\n",
      "std        9170.907634\n",
      "min           0.000000\n",
      "25%           1.000000\n",
      "50%          25.000000\n",
      "75%         301.000000\n",
      "max      147637.000000\n",
      "Name: retweetcount, dtype: float64\n",
      "0\n",
      "25.0\n",
      "1800.7597012893805\n",
      "147637 0\n"
     ]
    },
    {
     "data": {
      "text/plain": [
       "[Text(0.5, 1.0, 'Frequency Histogram'), Text(0, 0.5, 'Frequency')]"
      ]
     },
     "execution_count": 24,
     "metadata": {},
     "output_type": "execute_result"
    },
    {
     "data": {
      "image/png": "[encoded data removed]",
      "text/plain": [
       "<Figure size 700x500 with 1 Axes>"
      ]
     },
     "metadata": {
      "needs_background": "light"
     },
     "output_type": "display_data"
    }
   ],
   "source": [
    "# retweetcount distribution\n",
    "\n",
    "plt.rcParams.update({'figure.figsize':(7,5), 'figure.dpi':100})\n",
    "\n",
    "# Plot Histogram on x\n",
    "x = data[\"retweetcount\"]\n",
    "print(x.describe())\n",
    "\n",
    "print(st.mode(x))\n",
    "print(st.median(x))\n",
    "print(st.mean(x))\n",
    "\n",
    "max_value = x.max()\n",
    "min_value = x.min()\n",
    "print(max_value, min_value)\n",
    "\n",
    "\n",
    "# plt.hist(data, bins=np.arange(data.min(), data.max()+1))\n",
    "# plt.hist(x, bins=10) \n",
    "# plt.gca().set(title='Frequency Histogram', ylabel='Frequency')"
   ]
  },
  {
   "cell_type": "code",
   "execution_count": 30,
   "metadata": {},
   "outputs": [
    {
     "data": {
      "text/html": [
       "<div>\n",
       "<style scoped>\n",
       "    .dataframe tbody tr th:only-of-type {\n",
       "        vertical-align: middle;\n",
       "    }\n",
       "\n",
       "    .dataframe tbody tr th {\n",
       "        vertical-align: top;\n",
       "    }\n",
       "\n",
       "    .dataframe thead th {\n",
       "        text-align: right;\n",
       "    }\n",
       "</style>\n",
       "<table border=\"1\" class=\"dataframe\">\n",
       "  <thead>\n",
       "    <tr style=\"text-align: right;\">\n",
       "      <th></th>\n",
       "      <th>userid</th>\n",
       "      <th>username</th>\n",
       "      <th>textid</th>\n",
       "      <th>location</th>\n",
       "      <th>language</th>\n",
       "      <th>tweetid</th>\n",
       "      <th>tweetcreatedts</th>\n",
       "      <th>retweetcount</th>\n",
       "      <th>hashtags</th>\n",
       "      <th>text</th>\n",
       "      <th>usercreatedts</th>\n",
       "      <th>following</th>\n",
       "      <th>followers</th>\n",
       "      <th>totaltweets</th>\n",
       "      <th>tags_splitted</th>\n",
       "      <th>tags_lower</th>\n",
       "      <th>pro_Russian</th>\n",
       "      <th>pro_Ukraine</th>\n",
       "    </tr>\n",
       "  </thead>\n",
       "  <tbody>\n",
       "    <tr>\n",
       "      <th>115083</th>\n",
       "      <td>296800653</td>\n",
       "      <td>MinooOsborne</td>\n",
       "      <td>85</td>\n",
       "      <td>NaN</td>\n",
       "      <td>en</td>\n",
       "      <td>1501300567582420998</td>\n",
       "      <td>2022-03-08 20:55:22</td>\n",
       "      <td>147637</td>\n",
       "      <td>[]</td>\n",
       "      <td>.@ZelenskyyUa's tv address to the Russian (!) ...</td>\n",
       "      <td>2011-05-11 12:34:24</td>\n",
       "      <td>5784</td>\n",
       "      <td>6139</td>\n",
       "      <td>74685</td>\n",
       "      <td>NA</td>\n",
       "      <td>NA</td>\n",
       "      <td>False</td>\n",
       "      <td>False</td>\n",
       "    </tr>\n",
       "  </tbody>\n",
       "</table>\n",
       "</div>"
      ],
      "text/plain": [
       "           userid      username  textid location language  \\\n",
       "115083  296800653  MinooOsborne      85      NaN       en   \n",
       "\n",
       "                    tweetid       tweetcreatedts  retweetcount hashtags  \\\n",
       "115083  1501300567582420998  2022-03-08 20:55:22        147637       []   \n",
       "\n",
       "                                                     text       usercreatedts  \\\n",
       "115083  .@ZelenskyyUa's tv address to the Russian (!) ... 2011-05-11 12:34:24   \n",
       "\n",
       "        following  followers  totaltweets tags_splitted tags_lower  \\\n",
       "115083       5784       6139        74685            NA         NA   \n",
       "\n",
       "        pro_Russian  pro_Ukraine  \n",
       "115083        False        False  "
      ]
     },
     "execution_count": 30,
     "metadata": {},
     "output_type": "execute_result"
    }
   ],
   "source": [
    "data[data[\"retweetcount\"] == 147637]"
   ]
  },
  {
   "cell_type": "code",
   "execution_count": 23,
   "metadata": {},
   "outputs": [
    {
     "data": {
      "text/plain": [
       "Index(['userid', 'username', 'textid', 'location', 'language', 'tweetid',\n",
       "       'tweetcreatedts', 'retweetcount', 'hashtags', 'text', 'usercreatedts',\n",
       "       'following', 'followers', 'totaltweets', 'tags_splitted', 'tags_lower',\n",
       "       'pro_Russian', 'pro_Ukraine'],\n",
       "      dtype='object')"
      ]
     },
     "execution_count": 23,
     "metadata": {},
     "output_type": "execute_result"
    }
   ],
   "source": [
    "data.columns"
   ]
  }
 ],
 "metadata": {
  "interpreter": {
   "hash": "c7abe0519a6191451e7f8db70f9d941d7f04cf20d8ebf6fe38ded5796f8212f0"
  },
  "kernelspec": {
   "display_name": "Python 3.8.8 64-bit ('base': conda)",
   "name": "python3"
  },
  "language_info": {
   "name": "python",
   "version": "3.8.8"
  },
  "orig_nbformat": 4
 },
 "nbformat": 4,
 "nbformat_minor": 2
}
