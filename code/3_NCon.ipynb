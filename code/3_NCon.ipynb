{
 "cells": [
  {
   "cell_type": "code",
   "execution_count": null,
   "metadata": {},
   "outputs": [],
   "source": [
    "### Network construction\n",
    "# data file: preprocessed_data.pkl\n",
    "# bipartite network user - tweet\n",
    "# one-mode user network \n",
    "# one-mode tweet network\n",
    "\n",
    "# other combinations:\n",
    "# one-mode pro-russian / pro-ukrainian user network   \n",
    "# one-mode user network before / after Twitter ban in Russia   "
   ]
  },
  {
   "cell_type": "code",
   "execution_count": 1,
   "metadata": {},
   "outputs": [],
   "source": [
    "import pandas as pd\n",
    "import networkx as nx\n",
    "from networkx.algorithms import bipartite"
   ]
  },
  {
   "cell_type": "code",
   "execution_count": 2,
   "metadata": {},
   "outputs": [],
   "source": [
    "data = pd.read_pickle(\"preprocessed_data.pkl\")"
   ]
  },
  {
   "cell_type": "code",
   "execution_count": 20,
   "metadata": {},
   "outputs": [
    {
     "ename": "AttributeError",
     "evalue": "'list' object has no attribute 'to_csv'",
     "output_type": "error",
     "traceback": [
      "\u001b[1;31m---------------------------------------------------------------------------\u001b[0m",
      "\u001b[1;31mAttributeError\u001b[0m                            Traceback (most recent call last)",
      "\u001b[1;32m<ipython-input-20-44d147b13bf0>\u001b[0m in \u001b[0;36m<module>\u001b[1;34m\u001b[0m\n\u001b[0;32m      7\u001b[0m \u001b[0medges\u001b[0m \u001b[1;33m=\u001b[0m \u001b[1;33m[\u001b[0m\u001b[1;33m(\u001b[0m\u001b[0muser\u001b[0m\u001b[1;33m,\u001b[0m \u001b[0mtextid\u001b[0m\u001b[1;33m)\u001b[0m \u001b[1;32mfor\u001b[0m \u001b[0muser\u001b[0m\u001b[1;33m,\u001b[0m \u001b[0mtextid\u001b[0m \u001b[1;32min\u001b[0m \u001b[0mdata\u001b[0m\u001b[1;33m[\u001b[0m\u001b[0mcolumns\u001b[0m\u001b[1;33m]\u001b[0m\u001b[1;33m.\u001b[0m\u001b[0mvalues\u001b[0m\u001b[1;33m]\u001b[0m\u001b[1;33m\u001b[0m\u001b[1;33m\u001b[0m\u001b[0m\n\u001b[0;32m      8\u001b[0m \u001b[1;33m\u001b[0m\u001b[0m\n\u001b[1;32m----> 9\u001b[1;33m \u001b[0medges\u001b[0m\u001b[1;33m.\u001b[0m\u001b[0mto_csv\u001b[0m\u001b[1;33m(\u001b[0m\u001b[1;34m\"edges.csv\"\u001b[0m\u001b[1;33m)\u001b[0m\u001b[1;33m\u001b[0m\u001b[1;33m\u001b[0m\u001b[0m\n\u001b[0m",
      "\u001b[1;31mAttributeError\u001b[0m: 'list' object has no attribute 'to_csv'"
     ]
    }
   ],
   "source": [
    "# Get nodes for bipartite network\n",
    "users = data[\"userid\"]\n",
    "tweets = data[\"textid\"]\n",
    "\n",
    "# Create edge list for bipartite network\n",
    "columns = [\"userid\", \"textid\"]\n",
    "edges = [(user, textid) for user, textid in data[columns].values]\n",
    "\n",
    "# save edge list to file\n",
    "with open('edges.csv','wb') as file:\n",
    "    csv_out=csv.writer(out)\n",
    "    csv_out.writerow(['name','num'])\n",
    "    for row in data:\n",
    "        csv_out.writerow(row)\n"
   ]
  },
  {
   "cell_type": "code",
   "execution_count": 10,
   "metadata": {},
   "outputs": [
    {
     "name": "stdout",
     "output_type": "stream",
     "text": [
      "130608\n",
      "105158\n"
     ]
    }
   ],
   "source": [
    "print(users.nunique())\n",
    "print(tweets.nunique())"
   ]
  },
  {
   "cell_type": "code",
   "execution_count": 7,
   "metadata": {},
   "outputs": [],
   "source": [
    "# bipartite network construction\n",
    "B = nx.Graph()\n",
    "B.name = \"Bipartite user-tweet network\"\n",
    "B.add_nodes_from(users, bipartite=0)\n",
    "B.add_nodes_from(tweets, bipartite=1)\n",
    "B.add_edges_from(edges)"
   ]
  },
  {
   "cell_type": "code",
   "execution_count": 14,
   "metadata": {},
   "outputs": [
    {
     "data": {
      "text/plain": [
       "'Name: Bipartite user-tweet network\\nType: Graph\\nNumber of nodes: 235745\\nNumber of edges: 161429\\nAverage degree:   1.3695'"
      ]
     },
     "execution_count": 14,
     "metadata": {},
     "output_type": "execute_result"
    }
   ],
   "source": [
    "nx.info(B)"
   ]
  },
  {
   "cell_type": "code",
   "execution_count": 19,
   "metadata": {},
   "outputs": [
    {
     "name": "stdout",
     "output_type": "stream",
     "text": [
      "Name: One-mode user network\n",
      "Type: Graph\n",
      "Number of nodes: 130619\n",
      "Number of edges: 1436926\n",
      "Average degree:  22.0018\n",
      "Name: One-mode tweet network\n",
      "Type: Graph\n",
      "Number of nodes: 106650\n",
      "Number of edges: 78517\n",
      "Average degree:   1.4724\n"
     ]
    }
   ],
   "source": [
    "users_nodes = {n for n, a in B.nodes(data=True) if a[\"bipartite\"] == 0}\n",
    "tweets_nodes = set(B) - users_nodes\n",
    "\n",
    "B_users = bipartite.projected_graph(B, users_nodes)\n",
    "B_users.name = \"One-mode user network\"\n",
    "B_tweets = bipartite.projected_graph(B, tweets_nodes)\n",
    "B_tweets.name = \"One-mode tweet network\"\n",
    "\n",
    "print(nx.info(B_users))\n",
    "print(nx.info(B_tweets))"
   ]
  }
 ],
 "metadata": {
  "interpreter": {
   "hash": "c7abe0519a6191451e7f8db70f9d941d7f04cf20d8ebf6fe38ded5796f8212f0"
  },
  "kernelspec": {
   "display_name": "Python 3.8.8 64-bit ('base': conda)",
   "name": "python3"
  },
  "language_info": {
   "codemirror_mode": {
    "name": "ipython",
    "version": 3
   },
   "file_extension": ".py",
   "mimetype": "text/x-python",
   "name": "python",
   "nbconvert_exporter": "python",
   "pygments_lexer": "ipython3",
   "version": "3.8.8"
  },
  "orig_nbformat": 4
 },
 "nbformat": 4,
 "nbformat_minor": 2
}
